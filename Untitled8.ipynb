{
  "nbformat": 4,
  "nbformat_minor": 0,
  "metadata": {
    "colab": {
      "provenance": [],
      "authorship_tag": "ABX9TyP4OzBQdQo21BVj5TIhc7n3",
      "include_colab_link": true
    },
    "kernelspec": {
      "name": "python3",
      "display_name": "Python 3"
    },
    "language_info": {
      "name": "python"
    }
  },
  "cells": [
    {
      "cell_type": "markdown",
      "metadata": {
        "id": "view-in-github",
        "colab_type": "text"
      },
      "source": [
        "<a href=\"https://colab.research.google.com/github/Vinicius983/Faculdade/blob/main/Untitled8.ipynb\" target=\"_parent\"><img src=\"https://colab.research.google.com/assets/colab-badge.svg\" alt=\"Open In Colab\"/></a>"
      ]
    },
    {
      "cell_type": "markdown",
      "source": [
        "Questão 1"
      ],
      "metadata": {
        "id": "LRjP56aK9hdh"
      }
    },
    {
      "cell_type": "code",
      "execution_count": 18,
      "metadata": {
        "id": "yNJU9NCTu8mW",
        "colab": {
          "base_uri": "https://localhost:8080/"
        },
        "outputId": "8c8da281-a3bf-4078-84a5-ebeff1af6ce5"
      },
      "outputs": [
        {
          "output_type": "stream",
          "name": "stdout",
          "text": [
            "Digite um número inteiro entre 1 e 10: 5\n",
            "O fatorial de 5 é 120.\n"
          ]
        }
      ],
      "source": [
        "def fatorial(n):\n",
        "    if n == 0:\n",
        "        return 1\n",
        "    else:\n",
        "        return n * fatorial(n - 1)\n",
        "\n",
        "n = int(input(\"Digite um número inteiro entre 1 e 10: \"))\n",
        "if 1 <= n <= 10:\n",
        "    print(f\"O fatorial de {n} é {fatorial(n)}.\")\n",
        "else:\n",
        "    print(\"O número deve estar entre 1 e 10.\")\n"
      ]
    },
    {
      "cell_type": "markdown",
      "source": [
        "Questão 2"
      ],
      "metadata": {
        "id": "dq-Dkohx9c1q"
      }
    },
    {
      "cell_type": "code",
      "source": [
        "def fibonacci(n):\n",
        "    if n < 0:\n",
        "        print(\"Número inválido\")\n",
        "    elif n == 0:\n",
        "        return 0\n",
        "    elif n == 1 or n == 2:\n",
        "        return 1\n",
        "    else:\n",
        "        return fibonacci(n-1) + fibonacci(n-2)\n",
        "\n",
        "# Teste o código com um valor específico para 'n'\n",
        "n = 10   # Você pode alterar esse valor conforme necessário\n",
        "print(f\"O {n}º termo da sequência de Fibonacci é {fibonacci(n)}\")\n"
      ],
      "metadata": {
        "colab": {
          "base_uri": "https://localhost:8080/"
        },
        "id": "Hiq78GUS9oba",
        "outputId": "5dadc922-2054-4b01-9312-92ad6f8c6d20"
      },
      "execution_count": 19,
      "outputs": [
        {
          "output_type": "stream",
          "name": "stdout",
          "text": [
            "O 10º termo da sequência de Fibonacci é 55\n"
          ]
        }
      ]
    },
    {
      "cell_type": "markdown",
      "source": [
        "Questão 3"
      ],
      "metadata": {
        "id": "TFAyF6E1_Xio"
      }
    },
    {
      "cell_type": "code",
      "source": [
        "# Lista fornecida\n",
        "numeros = [0, 1, 1, 2, 3, 5, 8, 13, 21, 34, 55, 89]\n",
        "\n",
        "# Calcula a soma dos números na lista\n",
        "soma = sum(numeros)\n",
        "\n",
        "# Imprime o valor da soma\n",
        "print(\"A soma dos valores na lista é:\", soma)\n"
      ],
      "metadata": {
        "colab": {
          "base_uri": "https://localhost:8080/"
        },
        "id": "SwCZRZVl_Zcx",
        "outputId": "08b71319-bf23-45a1-f722-40d5ca5f8c90"
      },
      "execution_count": 20,
      "outputs": [
        {
          "output_type": "stream",
          "name": "stdout",
          "text": [
            "A soma dos valores na lista é: 232\n"
          ]
        }
      ]
    },
    {
      "cell_type": "markdown",
      "source": [
        "Questão 4"
      ],
      "metadata": {
        "id": "ZwF1ej0C_7UI"
      }
    },
    {
      "cell_type": "code",
      "source": [
        "# Lista de valores NDVI\n",
        "serie_ndvi = [0.3, -0.3, 0.2, None, 0.9, 0.8, 0.8, None, 0.2, 0.2]\n",
        "\n",
        "# Contar valores inválidos e válidos\n",
        "valores_invalidos = serie_ndvi.count(None)\n",
        "valores_validos = len(serie_ndvi) - valores_invalidos\n",
        "\n",
        "# Imprimir os resultados\n",
        "print(\"Quantidade de valores inválidos:\", valores_invalidos)\n",
        "print(\"Quantidade de valores válidos:\", valores_validos)\n"
      ],
      "metadata": {
        "colab": {
          "base_uri": "https://localhost:8080/"
        },
        "id": "JdG6x_lp_93w",
        "outputId": "7805dfe3-2306-4b6f-d2fc-cec9d10430f5"
      },
      "execution_count": 21,
      "outputs": [
        {
          "output_type": "stream",
          "name": "stdout",
          "text": [
            "Quantidade de valores inválidos: 2\n",
            "Quantidade de valores válidos: 8\n"
          ]
        }
      ]
    },
    {
      "cell_type": "markdown",
      "source": [
        "Questão 5"
      ],
      "metadata": {
        "id": "-Jmcb7hsAi8-"
      }
    },
    {
      "cell_type": "code",
      "source": [
        "def eh_primo(n):\n",
        "    if n <= 1:\n",
        "        return False\n",
        "    elif n <= 3:\n",
        "        return True\n",
        "    elif n % 2 == 0 or n % 3 == 0:\n",
        "        return False\n",
        "    i = 5\n",
        "    while i * i <= n:\n",
        "        if n % i == 0 or n % (i + 2) == 0:\n",
        "            return False\n",
        "        i += 6\n",
        "    return True\n",
        "\n",
        "# Testando a função\n",
        "num = 17\n",
        "if eh_primo(num):\n",
        "    print(num, \"é um número primo\")\n",
        "else:\n",
        "    print(num, \"não é um número primo\")\n"
      ],
      "metadata": {
        "colab": {
          "base_uri": "https://localhost:8080/"
        },
        "id": "DX_FLoiJAkl3",
        "outputId": "2e1daee0-f98d-456c-feec-1fbd9f760838"
      },
      "execution_count": 22,
      "outputs": [
        {
          "output_type": "stream",
          "name": "stdout",
          "text": [
            "17 é um número primo\n"
          ]
        }
      ]
    },
    {
      "cell_type": "markdown",
      "source": [
        "Questão 6\n"
      ],
      "metadata": {
        "id": "_1PLeTvfAzdu"
      }
    },
    {
      "cell_type": "code",
      "source": [
        "for i in range(1, 11):\n",
        "    for j in range(1, 11):\n",
        "        print(f\"{i} * {j} = {i*j}\")\n",
        "    print(\"-\" * 20)\n"
      ],
      "metadata": {
        "colab": {
          "base_uri": "https://localhost:8080/"
        },
        "id": "EPhGFkIFBcsX",
        "outputId": "a0124a9c-c860-4e62-b304-c43bcbfa858d"
      },
      "execution_count": 23,
      "outputs": [
        {
          "output_type": "stream",
          "name": "stdout",
          "text": [
            "1 * 1 = 1\n",
            "1 * 2 = 2\n",
            "1 * 3 = 3\n",
            "1 * 4 = 4\n",
            "1 * 5 = 5\n",
            "1 * 6 = 6\n",
            "1 * 7 = 7\n",
            "1 * 8 = 8\n",
            "1 * 9 = 9\n",
            "1 * 10 = 10\n",
            "--------------------\n",
            "2 * 1 = 2\n",
            "2 * 2 = 4\n",
            "2 * 3 = 6\n",
            "2 * 4 = 8\n",
            "2 * 5 = 10\n",
            "2 * 6 = 12\n",
            "2 * 7 = 14\n",
            "2 * 8 = 16\n",
            "2 * 9 = 18\n",
            "2 * 10 = 20\n",
            "--------------------\n",
            "3 * 1 = 3\n",
            "3 * 2 = 6\n",
            "3 * 3 = 9\n",
            "3 * 4 = 12\n",
            "3 * 5 = 15\n",
            "3 * 6 = 18\n",
            "3 * 7 = 21\n",
            "3 * 8 = 24\n",
            "3 * 9 = 27\n",
            "3 * 10 = 30\n",
            "--------------------\n",
            "4 * 1 = 4\n",
            "4 * 2 = 8\n",
            "4 * 3 = 12\n",
            "4 * 4 = 16\n",
            "4 * 5 = 20\n",
            "4 * 6 = 24\n",
            "4 * 7 = 28\n",
            "4 * 8 = 32\n",
            "4 * 9 = 36\n",
            "4 * 10 = 40\n",
            "--------------------\n",
            "5 * 1 = 5\n",
            "5 * 2 = 10\n",
            "5 * 3 = 15\n",
            "5 * 4 = 20\n",
            "5 * 5 = 25\n",
            "5 * 6 = 30\n",
            "5 * 7 = 35\n",
            "5 * 8 = 40\n",
            "5 * 9 = 45\n",
            "5 * 10 = 50\n",
            "--------------------\n",
            "6 * 1 = 6\n",
            "6 * 2 = 12\n",
            "6 * 3 = 18\n",
            "6 * 4 = 24\n",
            "6 * 5 = 30\n",
            "6 * 6 = 36\n",
            "6 * 7 = 42\n",
            "6 * 8 = 48\n",
            "6 * 9 = 54\n",
            "6 * 10 = 60\n",
            "--------------------\n",
            "7 * 1 = 7\n",
            "7 * 2 = 14\n",
            "7 * 3 = 21\n",
            "7 * 4 = 28\n",
            "7 * 5 = 35\n",
            "7 * 6 = 42\n",
            "7 * 7 = 49\n",
            "7 * 8 = 56\n",
            "7 * 9 = 63\n",
            "7 * 10 = 70\n",
            "--------------------\n",
            "8 * 1 = 8\n",
            "8 * 2 = 16\n",
            "8 * 3 = 24\n",
            "8 * 4 = 32\n",
            "8 * 5 = 40\n",
            "8 * 6 = 48\n",
            "8 * 7 = 56\n",
            "8 * 8 = 64\n",
            "8 * 9 = 72\n",
            "8 * 10 = 80\n",
            "--------------------\n",
            "9 * 1 = 9\n",
            "9 * 2 = 18\n",
            "9 * 3 = 27\n",
            "9 * 4 = 36\n",
            "9 * 5 = 45\n",
            "9 * 6 = 54\n",
            "9 * 7 = 63\n",
            "9 * 8 = 72\n",
            "9 * 9 = 81\n",
            "9 * 10 = 90\n",
            "--------------------\n",
            "10 * 1 = 10\n",
            "10 * 2 = 20\n",
            "10 * 3 = 30\n",
            "10 * 4 = 40\n",
            "10 * 5 = 50\n",
            "10 * 6 = 60\n",
            "10 * 7 = 70\n",
            "10 * 8 = 80\n",
            "10 * 9 = 90\n",
            "10 * 10 = 100\n",
            "--------------------\n"
          ]
        }
      ]
    },
    {
      "cell_type": "markdown",
      "source": [
        "Questão 7"
      ],
      "metadata": {
        "id": "cAxltMYHBjO9"
      }
    },
    {
      "cell_type": "code",
      "source": [
        "def maior_numero(n1, n2, n3):\n",
        "    return max(n1, n2, n3)\n",
        "\n",
        "# Testando a função\n",
        "print(maior_numero(8, 5, 7))  # Deve imprimir: 3\n"
      ],
      "metadata": {
        "colab": {
          "base_uri": "https://localhost:8080/"
        },
        "id": "Wh4VZDrtBlCl",
        "outputId": "845792d7-1bcc-44fc-d181-3b2dc3b8e479"
      },
      "execution_count": 26,
      "outputs": [
        {
          "output_type": "stream",
          "name": "stdout",
          "text": [
            "8\n"
          ]
        }
      ]
    },
    {
      "cell_type": "markdown",
      "source": [
        "Questão 8"
      ],
      "metadata": {
        "id": "kf1aQ17AB5XF"
      }
    },
    {
      "cell_type": "code",
      "source": [
        "def conta_letras(frase, letra):\n",
        "    return frase.lower().count(letra.lower())\n",
        "\n",
        "frase = input(\"Digite uma frase: \")\n",
        "letra = input(\"Digite a letra que deseja procurar: \")\n",
        "\n",
        "quantidade = conta_letras(frase, letra)\n",
        "\n",
        "if quantidade:\n",
        "    print(f\"A letra '{letra}' aparece {quantidade} vezes na frase.\")\n",
        "else:\n",
        "    print(f\"A letra '{letra}' não aparece na frase.\")\n"
      ],
      "metadata": {
        "colab": {
          "base_uri": "https://localhost:8080/"
        },
        "id": "uGuhwaMpB7Dt",
        "outputId": "f861f42d-4347-4cc6-e920-022add8c6256"
      },
      "execution_count": 27,
      "outputs": [
        {
          "output_type": "stream",
          "name": "stdout",
          "text": [
            "Digite uma frase: Pai joga demais\n",
            "Digite a letra que deseja procurar: a\n",
            "A letra 'a' aparece 3 vezes na frase.\n"
          ]
        }
      ]
    },
    {
      "cell_type": "markdown",
      "source": [
        "Questão 9"
      ],
      "metadata": {
        "id": "VhlE22INCQ7l"
      }
    },
    {
      "cell_type": "code",
      "source": [
        "import numpy as np\n",
        "\n",
        "# Cria uma matriz identidade 10x10\n",
        "matriz_identidade = np.eye(10)\n",
        "\n",
        "print(matriz_identidade)\n"
      ],
      "metadata": {
        "colab": {
          "base_uri": "https://localhost:8080/"
        },
        "id": "KpJbDHTCCSWB",
        "outputId": "b8092c62-a29b-4870-ea83-adec2bdfe39c"
      },
      "execution_count": 28,
      "outputs": [
        {
          "output_type": "stream",
          "name": "stdout",
          "text": [
            "[[1. 0. 0. 0. 0. 0. 0. 0. 0. 0.]\n",
            " [0. 1. 0. 0. 0. 0. 0. 0. 0. 0.]\n",
            " [0. 0. 1. 0. 0. 0. 0. 0. 0. 0.]\n",
            " [0. 0. 0. 1. 0. 0. 0. 0. 0. 0.]\n",
            " [0. 0. 0. 0. 1. 0. 0. 0. 0. 0.]\n",
            " [0. 0. 0. 0. 0. 1. 0. 0. 0. 0.]\n",
            " [0. 0. 0. 0. 0. 0. 1. 0. 0. 0.]\n",
            " [0. 0. 0. 0. 0. 0. 0. 1. 0. 0.]\n",
            " [0. 0. 0. 0. 0. 0. 0. 0. 1. 0.]\n",
            " [0. 0. 0. 0. 0. 0. 0. 0. 0. 1.]]\n"
          ]
        }
      ]
    },
    {
      "cell_type": "markdown",
      "source": [
        "Questão 10"
      ],
      "metadata": {
        "id": "EswTz7i7CeHt"
      }
    },
    {
      "cell_type": "code",
      "source": [
        "def frequencia_relativa_vogais(texto):\n",
        "    # Dicionário para contar a frequência de cada vogal\n",
        "    frequencias = {'a': 0, 'e': 0, 'i': 0, 'o': 0, 'u': 0}\n",
        "\n",
        "    # Contar a frequência de cada vogal no texto\n",
        "    for letra in texto.lower():\n",
        "        if letra in frequencias:\n",
        "            frequencias[letra] += 1\n",
        "\n",
        "    # Calcular o total de vogais\n",
        "    total_vogais = sum(frequencias.values())\n",
        "\n",
        "    # Calcular a frequência relativa de cada vogal\n",
        "    frequencias_relativas = {vogal: freq / total_vogais for vogal, freq in frequencias.items()}\n",
        "\n",
        "    return frequencias_relativas\n",
        "\n",
        "# Exemplo de uso da função\n",
        "texto = \"Exemplo de texto para análise de frequência de vogais.\"\n",
        "resultado = frequencia_relativa_vogais(texto)\n",
        "for vogal, freq in resultado.items():\n",
        "    print(f\"A frequência relativa da vogal '{vogal}' é {freq:.2%}\")\n",
        "\n"
      ],
      "metadata": {
        "colab": {
          "base_uri": "https://localhost:8080/"
        },
        "id": "5rsJVxghCfjl",
        "outputId": "dc8880f5-21b8-4a7b-dc6a-279dccd619e8"
      },
      "execution_count": 31,
      "outputs": [
        {
          "output_type": "stream",
          "name": "stdout",
          "text": [
            "A frequência relativa da vogal 'a' é 25.00%\n",
            "A frequência relativa da vogal 'e' é 40.00%\n",
            "A frequência relativa da vogal 'i' é 15.00%\n",
            "A frequência relativa da vogal 'o' é 15.00%\n",
            "A frequência relativa da vogal 'u' é 5.00%\n"
          ]
        }
      ]
    }
  ]
}